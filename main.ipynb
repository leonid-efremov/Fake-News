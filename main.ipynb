{
 "cells": [
  {
   "cell_type": "markdown",
   "metadata": {},
   "source": [
    "Fake News Detection\n",
    "BERT-based classification model "
   ]
  },
  {
   "cell_type": "code",
   "execution_count": 16,
   "metadata": {},
   "outputs": [],
   "source": [
    "import pandas as pd\n",
    "import matplotlib.pyplot as plt\n",
    "import seaborn as sns\n",
    "from sklearn.metrics import f1_score, confusion_matrix\n",
    "from sklearn.model_selection import train_test_split\n",
    "from BERT_model import to_torch, BertClassifier\n",
    "from transformers import BertTokenizer, BertForSequenceClassification"
   ]
  },
  {
   "cell_type": "code",
   "execution_count": 17,
   "metadata": {},
   "outputs": [
    {
     "name": "stderr",
     "output_type": "stream",
     "text": [
      "Some weights of the model checkpoint at cointegrated/rubert-tiny were not used when initializing BertForSequenceClassification: ['cls.seq_relationship.bias', 'cls.predictions.decoder.weight', 'cls.predictions.transform.LayerNorm.weight', 'cls.seq_relationship.weight', 'cls.predictions.decoder.bias', 'cls.predictions.bias', 'cls.predictions.transform.dense.weight', 'cls.predictions.transform.LayerNorm.bias', 'cls.predictions.transform.dense.bias']\n",
      "- This IS expected if you are initializing BertForSequenceClassification from the checkpoint of a model trained on another task or with another architecture (e.g. initializing a BertForSequenceClassification model from a BertForPreTraining model).\n",
      "- This IS NOT expected if you are initializing BertForSequenceClassification from the checkpoint of a model that you expect to be exactly identical (initializing a BertForSequenceClassification model from a BertForSequenceClassification model).\n",
      "Some weights of BertForSequenceClassification were not initialized from the model checkpoint at cointegrated/rubert-tiny and are newly initialized: ['classifier.bias', 'classifier.weight']\n",
      "You should probably TRAIN this model on a down-stream task to be able to use it for predictions and inference.\n"
     ]
    }
   ],
   "source": [
    "BATCH_SIZE = 2\n",
    "MODEL = BertForSequenceClassification.from_pretrained('cointegrated/rubert-tiny')\n",
    "TOKENIZER =  BertTokenizer.from_pretrained('cointegrated/rubert-tiny')"
   ]
  },
  {
   "cell_type": "markdown",
   "metadata": {},
   "source": [
    "1. Loading and preprocess data"
   ]
  },
  {
   "cell_type": "code",
   "execution_count": 18,
   "metadata": {},
   "outputs": [
    {
     "data": {
      "text/html": [
       "<div>\n",
       "<style scoped>\n",
       "    .dataframe tbody tr th:only-of-type {\n",
       "        vertical-align: middle;\n",
       "    }\n",
       "\n",
       "    .dataframe tbody tr th {\n",
       "        vertical-align: top;\n",
       "    }\n",
       "\n",
       "    .dataframe thead th {\n",
       "        text-align: right;\n",
       "    }\n",
       "</style>\n",
       "<table border=\"1\" class=\"dataframe\">\n",
       "  <thead>\n",
       "    <tr style=\"text-align: right;\">\n",
       "      <th></th>\n",
       "      <th>title</th>\n",
       "      <th>is_fake</th>\n",
       "    </tr>\n",
       "  </thead>\n",
       "  <tbody>\n",
       "    <tr>\n",
       "      <th>0</th>\n",
       "      <td>роскомнадзор представлять реестр сочетание цве...</td>\n",
       "      <td>0</td>\n",
       "    </tr>\n",
       "    <tr>\n",
       "      <th>1</th>\n",
       "      <td>ночь минск президентский гора беларашмор пик д...</td>\n",
       "      <td>0</td>\n",
       "    </tr>\n",
       "    <tr>\n",
       "      <th>2</th>\n",
       "      <td>бывший спичрайтер юрий лоза рассказывать трудн...</td>\n",
       "      <td>0</td>\n",
       "    </tr>\n",
       "    <tr>\n",
       "      <th>3</th>\n",
       "      <td>сельский церковь собирать рекордно низкий коли...</td>\n",
       "      <td>0</td>\n",
       "    </tr>\n",
       "    <tr>\n",
       "      <th>4</th>\n",
       "      <td>акция google рухнуть объявление перезапуск rutube</td>\n",
       "      <td>0</td>\n",
       "    </tr>\n",
       "  </tbody>\n",
       "</table>\n",
       "</div>"
      ],
      "text/plain": [
       "                                               title  is_fake\n",
       "0  роскомнадзор представлять реестр сочетание цве...        0\n",
       "1  ночь минск президентский гора беларашмор пик д...        0\n",
       "2  бывший спичрайтер юрий лоза рассказывать трудн...        0\n",
       "3  сельский церковь собирать рекордно низкий коли...        0\n",
       "4  акция google рухнуть объявление перезапуск rutube        0"
      ]
     },
     "execution_count": 18,
     "metadata": {},
     "output_type": "execute_result"
    }
   ],
   "source": [
    "train_data_path = 'dataset/train_preprocessed.csv'\n",
    "test_data_path = 'dataset/test_preprocessed.csv'\n",
    "# Load already preprocessed data\n",
    "try:\n",
    "    train_df = pd.read_csv(train_data_path)\n",
    "    test_df = pd.read_csv(test_data_path)\n",
    "except FileNotFoundError:\n",
    "    from preprocess_data import import_data, preprocess_data\n",
    "    train_df, test_df = import_data(train_data_path, test_data_path)\n",
    "    train_df, test_df = preprocess_data(train_df, test_df, save=True)\n",
    "\n",
    "test_df.head()"
   ]
  },
  {
   "cell_type": "code",
   "execution_count": 19,
   "metadata": {},
   "outputs": [],
   "source": [
    "X = list(train_df.iloc[:, 0])\n",
    "y = list(train_df.iloc[:, 1])\n",
    "X_test = list(test_df.iloc[:, 0])\n",
    "y_test = list(test_df.iloc[:, 1])\n",
    "\n",
    "X_train, X_val, y_train, y_val = train_test_split(X, y, test_size=0.2, \n",
    "                                                  random_state=11)\n",
    "\n",
    "train = to_torch(X_train, y_train, shuffle=True, batch_size=BATCH_SIZE,\n",
    "                 to_bert=True, tokenizer=TOKENIZER)\n",
    "valid = to_torch(X_val, y_val, shuffle=False, batch_size=BATCH_SIZE,\n",
    "                 to_bert=True, tokenizer=TOKENIZER)\n",
    "test = to_torch(X_test, y_test, shuffle=False, batch_size=BATCH_SIZE,\n",
    "                to_bert=True, tokenizer=TOKENIZER)"
   ]
  },
  {
   "cell_type": "markdown",
   "metadata": {},
   "source": [
    "2. Setup and train BERT model"
   ]
  },
  {
   "cell_type": "code",
   "execution_count": 20,
   "metadata": {},
   "outputs": [],
   "source": [
    "model = BertClassifier(MODEL, n_classes=2)"
   ]
  },
  {
   "cell_type": "code",
   "execution_count": 21,
   "metadata": {},
   "outputs": [
    {
     "name": "stdout",
     "output_type": "stream",
     "text": [
      "Epoch: 1/5\n",
      "Validation loss: 0.655931, Accuracy: 0.796007\n",
      "Epoch: 2/5\n",
      "Validation loss: 0.697155, Accuracy: 0.822917\n",
      "Epoch: 3/5\n",
      "Validation loss: 0.715484, Accuracy: 0.830729\n",
      "Epoch: 4/5\n",
      "Validation loss: 0.740833, Accuracy: 0.824653\n",
      "Epoch: 5/5\n",
      "Validation loss: 0.757287, Accuracy: 0.828993\n"
     ]
    }
   ],
   "source": [
    "model.train(train, valid, lr=1e-5, n_epochs=5)"
   ]
  },
  {
   "cell_type": "markdown",
   "metadata": {},
   "source": [
    "3. Score and visualize results"
   ]
  },
  {
   "cell_type": "code",
   "execution_count": 22,
   "metadata": {},
   "outputs": [
    {
     "name": "stdout",
     "output_type": "stream",
     "text": [
      "F1 metric score: 0.659\n"
     ]
    },
    {
     "data": {
      "image/png": "[encoded data removed]",
      "text/plain": [
       "<Figure size 432x288 with 2 Axes>"
      ]
     },
     "metadata": {
      "needs_background": "light"
     },
     "output_type": "display_data"
    }
   ],
   "source": [
    "y_pred = model.predict(valid)\n",
    "\n",
    "print('F1 metric score: %.3f' %f1_score(y_val, y_pred))\n",
    "\n",
    "notation = ['Fake', 'True']\n",
    "cm = pd.DataFrame(confusion_matrix(y_val, y_pred), \n",
    "                  index=notation, columns=notation)\n",
    "sns.heatmap(cm, cmap='Blues', annot=True, fmt='',\n",
    "            xticklabels=notation, yticklabels=notation)\n",
    "plt.xlabel(\"Actual\")\n",
    "plt.ylabel(\"Predicted\")\n",
    "plt.title('Confusion matrix')\n",
    "plt.show()"
   ]
  },
  {
   "cell_type": "markdown",
   "metadata": {},
   "source": [
    "4. Make prediction file"
   ]
  },
  {
   "cell_type": "code",
   "execution_count": 23,
   "metadata": {},
   "outputs": [],
   "source": [
    "y_pred = model.predict(test)\n",
    "\n",
    "test_df.iloc[:, 1] = y_pred\n",
    "test_df.to_csv('predictions.tsv', sep='\\t')"
   ]
  }
 ],
 "metadata": {
  "interpreter": {
   "hash": "b3ba2566441a7c06988d0923437866b63cedc61552a5af99d1f4fb67d367b25f"
  },
  "kernelspec": {
   "display_name": "Python 3.8.5 ('base')",
   "language": "python",
   "name": "python3"
  },
  "language_info": {
   "codemirror_mode": {
    "name": "ipython",
    "version": 3
   },
   "file_extension": ".py",
   "mimetype": "text/x-python",
   "name": "python",
   "nbconvert_exporter": "python",
   "pygments_lexer": "ipython3",
   "version": "3.8.5"
  },
  "orig_nbformat": 4
 },
 "nbformat": 4,
 "nbformat_minor": 2
}
